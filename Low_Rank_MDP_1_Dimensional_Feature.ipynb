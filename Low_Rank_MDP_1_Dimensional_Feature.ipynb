{
  "nbformat": 4,
  "nbformat_minor": 0,
  "metadata": {
    "colab": {
      "provenance": []
    },
    "kernelspec": {
      "name": "python3",
      "display_name": "Python 3"
    },
    "language_info": {
      "name": "python"
    }
  },
  "cells": [
    {
      "cell_type": "markdown",
      "source": [
        "Helper Functions for RL"
      ],
      "metadata": {
        "id": "QHLZXjm3YHjh"
      }
    },
    {
      "cell_type": "code",
      "execution_count": null,
      "metadata": {
        "id": "-9E0GOwJPaFv"
      },
      "outputs": [],
      "source": [
        "#@title\n",
        "import numpy as np\n",
        "import jax.numpy as jnp\n",
        "import jax\n",
        "np.random.seed(1)\n",
        "\n",
        "# RUNNING SHAPE ASSUMPTIONS\n",
        "# P.shape = (n_states, n_actions, n_states)\n",
        "# r.shape = (n_states, n_actions)\n",
        "# pi.shape = (n_states, n_actions) ## in certain state, the probability that policy pi leads to certain action\n",
        "\n",
        "# Calculating value functions\n",
        "def get_P_pi(P, pi):\n",
        "    return jnp.sum(P * jnp.expand_dims(pi, axis = -1), axis = 1)\n",
        "\n",
        "def get_V(P, r, gamma, pi):\n",
        "    P_pi = get_P_pi(P, pi)\n",
        "    r_pi = jnp.sum(r * pi, axis = -1)\n",
        "    # v is the vector such that (I - gamma P_pi) v = r_pi\n",
        "    return jnp.linalg.solve(jnp.eye(pi.shape[0]) - gamma * P_pi, r_pi)\n",
        "\n",
        "def get_Q(P, r, gamma, pi):\n",
        "    n_states = P.shape[0]\n",
        "    V = get_V(P, r, gamma, pi)\n",
        "    Vp =  jnp.sum(P * V.reshape((1, 1, n_states)), axis = -1)\n",
        "    return r + gamma * Vp\n",
        "\n",
        "def get_soft_V(P, r, gamma, pi, tau):\n",
        "    P_pi = get_P_pi(P, pi)\n",
        "    r_pi = np.sum(r * pi, axis = -1) - tau * np.sum(pi * np.log(pi), axis = 1)\n",
        "    return jnp.linalg.solve(jnp.eye(pi.shape[0]) - gamma * P_pi, r_pi)\n",
        "\n",
        "def get_soft_Q(P, r, gamma, pi, tau):\n",
        "    n_states = P.shape[0]\n",
        "    V = get_soft_V(P, r, gamma, pi, tau)\n",
        "    Vp =  jnp.sum(P * V.reshape((1, 1, n_states)), axis = -1)\n",
        "    return r + gamma * Vp\n",
        "\n",
        "\n",
        "# Misc RL procedures\n",
        "def value_iteration(P, r, gamma, V, iters = 1):\n",
        "    n_states = P.shape[0]\n",
        "    res = V\n",
        "    for _ in range(iters):\n",
        "        Vp =  jnp.sum(P * res.reshape((1, 1, n_states)), axis = -1)\n",
        "        res = jnp.max(r + gamma * Vp, axis = -1)\n",
        "        assert jnp.shape(res)[0] == n_states\n",
        "        assert len(res[res != res]) == 0\n",
        "    return res\n",
        "\n",
        "def get_optimal_V(P, r, gamma, iters = int(1e5)):\n",
        "    return value_iteration(P, r, gamma, np.zeros(P.shape[0]), iters)\n",
        "\n",
        "def action_value_iteration(P, r, gamma, Q, iters = 1):\n",
        "    n_states = P.shape[0]\n",
        "    n_actions = r.shape[1]\n",
        "    res = Q\n",
        "    for _ in range(iters):\n",
        "        max_Q = jnp.max(res, axis = -1).reshape((1, 1, n_states))\n",
        "        res = r + gamma * jnp.sum(max_Q * P, axis = -1)\n",
        "        assert res.shape == (n_states, n_actions), res.shape\n",
        "    return res\n",
        "\n",
        "def get_optimal_Q(P, r, gamma, iters = int(1e5)):\n",
        "    n_states = P.shape[0]\n",
        "    n_actions = r.shape[1]\n",
        "    Q = np.zeros((n_states, n_actions))\n",
        "    return action_value_iteration(P, r, gamma, Q, iters = iters)\n",
        "\n",
        "def get_greedy_pi(Q):\n",
        "    n_states = Q.shape[0]\n",
        "    n_actions = Q.shape[1]\n",
        "    # extract greedy policy from Q\n",
        "    max_actions =  jnp.argmax(Q, axis = -1)\n",
        "    pi = np.zeros((n_states, n_actions))\n",
        "    for i in range(n_states):\n",
        "        pi[i, max_actions[i]] = 1\n",
        "    return pi\n",
        "\n",
        "\n",
        "def get_d_pi(P, gamma, pi, rho):\n",
        "    # d_pi = (1 - gamma) (I - \\gamma P.T)^{-1} \\rho\n",
        "    n_states = P.shape[0]\n",
        "    P_pi = get_P_pi(P, pi)\n",
        "    # d_pi is the vector such that (I - \\gamma P_pi.T) d_pi = (1 - gamma) * \\rho\n",
        "    return jnp.linalg.solve(jnp.eye(n_states) - gamma * P_pi.T, (1 - gamma) * rho)"
      ]
    },
    {
      "cell_type": "markdown",
      "source": [
        "MDP with Low Rank Structure"
      ],
      "metadata": {
        "id": "SMFPF4H6YMZN"
      }
    },
    {
      "cell_type": "code",
      "source": [
        "def build_low_rank_mdp(d, p, K, L, R=1.0, epsilon=0.15):\n",
        "    P=np.zeros((2*K*d+2,2*L,2*K*d+2))\n",
        "    r=np.zeros((2*K*d+2,2*L))\n",
        "    for i in range(d-1):\n",
        "        for j in range(K):\n",
        "            for k in range(L):\n",
        "                P[i*K+j,k,i*K:(i+1)*K]=(1-p)*np.random.dirichlet(np.ones(K),size=1)\n",
        "                P[i*K+j,k,(i+1)*K:(i+2)*K]=p*np.random.dirichlet(np.ones(K),size=1)\n",
        "                P[i*K+j,L+k,(d+i)*K:(d+i+1)*K]=(1-p)*np.random.dirichlet(np.ones(K),size=1)\n",
        "                P[i*K+j,L+k,(d+i+1)*K:(d+i+2)*K]=p*np.random.dirichlet(np.ones(K),size=1)\n",
        "                P[(d+i)*K+j,k,(d+i)*K:(d+i+1)*K]=(1-p)*np.random.dirichlet(np.ones(K),size=1)\n",
        "                P[(d+i)*K+j,k,(d+i+1)*K:(d+i+2)*K]=p*np.random.dirichlet(np.ones(K),size=1)\n",
        "                P[(d+i)*K+j,L+k,(d+i)*K:(d+i+1)*K]=(1-p)*np.random.dirichlet(np.ones(K),size=1)\n",
        "                P[(d+i)*K+j,L+k,(d+i+1)*K:(d+i+2)*K]=p*np.random.dirichlet(np.ones(K),size=1)\n",
        "    for j in range(K):\n",
        "        P[(d-1)*K+j,:,2*K*d]=0.5+epsilon\n",
        "        P[(d-1)*K+j,:,2*K*d+1]=0.5-epsilon\n",
        "        P[(2*d-1)*K+j,:,2*K*d]=0.5\n",
        "        P[(2*d-1)*K+j,:,2*K*d+1]=0.5\n",
        "    P[2*K*d,:,2*K*d+1]=1\n",
        "    P[2*K*d+1,:,2*K*d+1]=1\n",
        "    r[2*K*d,:]=R\n",
        "    return P, r\n",
        "\n",
        "d=10\n",
        "p=0.65\n",
        "K=10\n",
        "L=10\n",
        "R=100.0\n",
        "epsilon=0.40\n",
        "gamma=2*d/(2*d+1)\n",
        "P,r=build_low_rank_mdp(d,p,K,L,R,epsilon)\n",
        "rho=np.zeros(2*K*d+2)\n",
        "#rho[:K]=np.random.dirichlet(np.ones(K),size=1)\n",
        "rho[:K]=1.0/K"
      ],
      "metadata": {
        "id": "tMaewFUNPcyL"
      },
      "execution_count": null,
      "outputs": []
    },
    {
      "cell_type": "markdown",
      "source": [
        "Use Q*(s,a) as features"
      ],
      "metadata": {
        "id": "mFfm1QDd7CMk"
      }
    },
    {
      "cell_type": "code",
      "source": [
        "Q_approx=np.zeros((2*d+2,2))\n",
        "Q_approx[2*d,:]=np.array([R,R])\n",
        "Q_approx[2*d-1,:]=np.array([0.5*gamma*R,0.5*gamma*R])\n",
        "for i in range(2*d-2,d-1,-1):\n",
        "    Q_approx[i,:]=Q_approx[i+1,:]*p*gamma/(1-gamma+p*gamma)\n",
        "Q_approx[d-1,:]=np.array([(0.5+epsilon)*gamma*R,(0.5-epsilon)*gamma*R])\n",
        "for i in range(d-2,-1,-1):\n",
        "    Q_approx[i,0]=Q_approx[i+1,0]*p*gamma/(1-gamma+p*gamma)\n",
        "    Q_approx[i,1]=(1-p)*gamma*Q_approx[i+d,0]+p*gamma*Q_approx[i+d+1,0]"
      ],
      "metadata": {
        "id": "9lxLfygjmjmt"
      },
      "execution_count": null,
      "outputs": []
    },
    {
      "cell_type": "code",
      "source": [
        "Q_approx # This is Q*(s,a)"
      ],
      "metadata": {
        "colab": {
          "base_uri": "https://localhost:8080/"
        },
        "id": "p1tmzgEAtCJ1",
        "outputId": "541500fa-8e68-4d89-b1ba-62003608b6ec"
      },
      "execution_count": null,
      "outputs": [
        {
          "output_type": "execute_result",
          "data": {
            "text/plain": [
              "array([[ 43.99375785,  24.44097658],\n",
              "       [ 47.37789307,  26.3210517 ],\n",
              "       [ 51.02234638,  28.34574799],\n",
              "       [ 54.94714226,  30.52619014],\n",
              "       [ 59.17384551,  32.87435861],\n",
              "       [ 63.72567978,  35.40315543],\n",
              "       [ 68.62765514,  38.12647508],\n",
              "       [ 73.90670554,  41.05928086],\n",
              "       [ 79.59183673,  44.21768707],\n",
              "       [ 85.71428571,   9.52380952],\n",
              "       [ 24.44097658,  24.44097658],\n",
              "       [ 26.3210517 ,  26.3210517 ],\n",
              "       [ 28.34574799,  28.34574799],\n",
              "       [ 30.52619014,  30.52619014],\n",
              "       [ 32.87435861,  32.87435861],\n",
              "       [ 35.40315543,  35.40315543],\n",
              "       [ 38.12647508,  38.12647508],\n",
              "       [ 41.05928086,  41.05928086],\n",
              "       [ 44.21768707,  44.21768707],\n",
              "       [ 47.61904762,  47.61904762],\n",
              "       [100.        , 100.        ],\n",
              "       [  0.        ,   0.        ]])"
            ]
          },
          "metadata": {},
          "execution_count": 139
        }
      ]
    },
    {
      "cell_type": "markdown",
      "source": [
        "Create Feature for the MDP Problem"
      ],
      "metadata": {
        "id": "I3bvevUw7g7p"
      }
    },
    {
      "cell_type": "code",
      "source": [
        "phi=np.zeros((2*K*d+2,L*2))\n",
        "for i in range(d):\n",
        "    for j in range(2):\n",
        "        for k in range(K):\n",
        "            for l in range(L):\n",
        "                phi[i*K+k,j*L+l]=Q_approx[i,j]\n",
        "                phi[(i+d)*K+k,j*L+l]=Q_approx[i+d,j]\n",
        "for j in range(2):\n",
        "    for l in range(L):\n",
        "        phi[2*K*d,j*L+l]=Q_approx[2*d,j]\n",
        "        phi[2*K*d+1,j*L+l]=Q_approx[2*d+1,j]"
      ],
      "metadata": {
        "id": "b1bFMDJK47bw"
      },
      "execution_count": null,
      "outputs": []
    },
    {
      "cell_type": "markdown",
      "source": [
        "Or, Set Good State Action Pair to 1?"
      ],
      "metadata": {
        "id": "lBCe-enNtBGJ"
      }
    },
    {
      "cell_type": "code",
      "source": [
        "phi=np.zeros((2*K*d+2,L*2))\n",
        "for i in range(d):\n",
        "    for j in range(K):\n",
        "        for k in range(L):\n",
        "            phi[i*K+j,k]=1"
      ],
      "metadata": {
        "id": "ih0rr7fJtdX8"
      },
      "execution_count": null,
      "outputs": []
    },
    {
      "cell_type": "code",
      "source": [
        "def nabula_log_pi(s,a,theta,phi):\n",
        "    return phi[s,a]-np.sum(np.exp(phi[s]*theta)*phi[s])/np.sum(np.exp(phi[s]*theta))"
      ],
      "metadata": {
        "id": "sVz4MxxpHKsn"
      },
      "execution_count": null,
      "outputs": []
    },
    {
      "cell_type": "code",
      "source": [
        "def get_pi(theta,phi,S,A):\n",
        "    pi=np.zeros((S,A))\n",
        "    for i in range(S):\n",
        "        pi[i]=np.exp(theta*phi[i])/np.sum(np.exp(theta*phi[i]))\n",
        "    return pi"
      ],
      "metadata": {
        "id": "H-eBgXedKQYx"
      },
      "execution_count": null,
      "outputs": []
    },
    {
      "cell_type": "code",
      "source": [
        "def fisher_information_matrix(theta,phi,S,A,P,gamma,rho):\n",
        "    ret=0\n",
        "    pi=get_pi(theta,phi,S,A)\n",
        "    #print(\"pi=\",pi)\n",
        "    d_pi=get_d_pi(P, gamma, pi, rho)\n",
        "    #print(\"dpi=\",d_pi)\n",
        "    for s in range(S):\n",
        "        for a in range(A):\n",
        "            grad=nabula_log_pi(s,a,theta,phi)\n",
        "            #mat=grad@grad.T\n",
        "            mat=grad*grad\n",
        "            ret=ret+d_pi[s]*pi[s,a]*mat\n",
        "    return ret"
      ],
      "metadata": {
        "id": "pI-vZQbzNydg"
      },
      "execution_count": null,
      "outputs": []
    },
    {
      "cell_type": "code",
      "source": [
        "import jax\n",
        "\n",
        "import matplotlib\n",
        "from matplotlib import pyplot as plt\n",
        "\n",
        "# make fonts of pyplot bigger\n",
        "matplotlib.rcParams.update({'font.size': 10})\n",
        "\n",
        "@jax.jit\n",
        "def true_gradient(P, r, gamma, theta, phi, rho):\n",
        "    pi=jax.nn.softmax(theta*phi, axis = 1)\n",
        "    d_pi = jax.lax.stop_gradient(get_d_pi(P, gamma, pi, rho))\n",
        "    qpi = jax.lax.stop_gradient(get_Q(P, r, gamma, pi))\n",
        "    grad = jax.grad(\n",
        "        lambda theta: np.sum(d_pi * np.sum(qpi * jax.nn.softmax(theta*phi, axis = 1), axis = 1))\n",
        "    )(theta)\n",
        "    return grad / (1 - gamma)"
      ],
      "metadata": {
        "id": "RN_-u1ZyRDWN"
      },
      "execution_count": null,
      "outputs": []
    },
    {
      "cell_type": "code",
      "source": [
        "def policy_objective(P, r, gamma, pi, rho):\n",
        "  v_pi = get_V(P, r, gamma, pi)\n",
        "  return jnp.sum(v_pi * rho)"
      ],
      "metadata": {
        "id": "GMHkJuXxT97M"
      },
      "execution_count": null,
      "outputs": []
    },
    {
      "cell_type": "code",
      "source": [
        "def run_policy_gradient(P, r, gamma, theta, phi, rho, mu, lr, T, callback = None):\n",
        "  performance = np.zeros(T)\n",
        "  surrogate_performance = np.zeros(T)\n",
        "  S,A=phi.shape\n",
        "  # run policy gradient for T timesteps, updating at every time step\n",
        "  for t in range(T):\n",
        "    print(t)\n",
        "    pi = jax.nn.softmax(theta*phi, axis = 1)\n",
        "    print(pi)\n",
        "    # record performance with respect to the original objective V^\\theta(s_0)\n",
        "    performance[t] = policy_objective(P, r, gamma, pi, rho)\n",
        "\n",
        "    # record performance with respect to the surrogate objective J_\\mu(\\pi)\n",
        "    surrogate_performance[t] = policy_objective(P, r, gamma, pi, mu)\n",
        "\n",
        "    # callback for recording data\n",
        "    #if callback is not None:\n",
        "    #  callback(P, r, gamma, logits, rho, mu, pi, t)\n",
        "\n",
        "    # take a gradient step with respect to the surrogate objective J_\\mu(\\pi)\n",
        "    #print(\"grad\")\n",
        "    #print(true_gradient(P, r, gamma, theta, phi, mu))\n",
        "    #print(true_gradient(P, r, gamma, theta, phi, mu).shape)\n",
        "    #print(fisher_information_matrix(theta,phi,S,A,P,gamma,rho))\n",
        "    #print(fisher_information_matrix(theta,phi,S,A,P,gamma,rho).shape)\n",
        "    FIM=fisher_information_matrix(theta,phi,S,A,P,gamma,rho)\n",
        "    print(\"FIM=\",FIM)\n",
        "    if FIM<1e-6:\n",
        "        T=t+1\n",
        "        return (performance, surrogate_performance,T)\n",
        "    theta = theta + lr * 1 / FIM * true_gradient(P, r, gamma, theta, phi, mu)\n",
        "  return (performance, surrogate_performance,T)"
      ],
      "metadata": {
        "id": "4YBhb8OwRADK"
      },
      "execution_count": null,
      "outputs": []
    },
    {
      "cell_type": "code",
      "source": [
        "perf1,perf2,T=run_policy_gradient(P,r,gamma,0.0,phi,rho,rho,0.01,100)"
      ],
      "metadata": {
        "colab": {
          "base_uri": "https://localhost:8080/"
        },
        "id": "iHa8NgkXUDPA",
        "outputId": "97ee8ca5-c6cc-4e7b-cb4b-cfa9c6848775"
      },
      "execution_count": null,
      "outputs": [
        {
          "output_type": "stream",
          "name": "stdout",
          "text": [
            "0\n",
            "[[0.05 0.05 0.05 ... 0.05 0.05 0.05]\n",
            " [0.05 0.05 0.05 ... 0.05 0.05 0.05]\n",
            " [0.05 0.05 0.05 ... 0.05 0.05 0.05]\n",
            " ...\n",
            " [0.05 0.05 0.05 ... 0.05 0.05 0.05]\n",
            " [0.05 0.05 0.05 ... 0.05 0.05 0.05]\n",
            " [0.05 0.05 0.05 ... 0.05 0.05 0.05]]\n",
            "FIM= 0.022725737\n",
            "1\n",
            "[[0.05030449 0.05030449 0.05030449 ... 0.04969551 0.04969551 0.04969551]\n",
            " [0.05030449 0.05030449 0.05030449 ... 0.04969551 0.04969551 0.04969551]\n",
            " [0.05030449 0.05030449 0.05030449 ... 0.04969551 0.04969551 0.04969551]\n",
            " ...\n",
            " [0.05       0.05       0.05       ... 0.05       0.05       0.05      ]\n",
            " [0.05       0.05       0.05       ... 0.05       0.05       0.05      ]\n",
            " [0.05       0.05       0.05       ... 0.05       0.05       0.05      ]]\n",
            "FIM= 0.022851365\n",
            "2\n",
            "[[0.05062621 0.05062621 0.05062621 ... 0.04937379 0.04937379 0.04937379]\n",
            " [0.05062621 0.05062621 0.05062621 ... 0.04937379 0.04937379 0.04937379]\n",
            " [0.05062621 0.05062621 0.05062621 ... 0.04937379 0.04937379 0.04937379]\n",
            " ...\n",
            " [0.05       0.05       0.05       ... 0.05       0.05       0.05      ]\n",
            " [0.05       0.05       0.05       ... 0.05       0.05       0.05      ]\n",
            " [0.05       0.05       0.05       ... 0.05       0.05       0.05      ]]\n",
            "FIM= 0.022983734\n",
            "3\n",
            "[[0.0509671 0.0509671 0.0509671 ... 0.0490329 0.0490329 0.0490329]\n",
            " [0.0509671 0.0509671 0.0509671 ... 0.0490329 0.0490329 0.0490329]\n",
            " [0.0509671 0.0509671 0.0509671 ... 0.0490329 0.0490329 0.0490329]\n",
            " ...\n",
            " [0.05      0.05      0.05      ... 0.05      0.05      0.05     ]\n",
            " [0.05      0.05      0.05      ... 0.05      0.05      0.05     ]\n",
            " [0.05      0.05      0.05      ... 0.05      0.05      0.05     ]]\n",
            "FIM= 0.023123618\n",
            "4\n",
            "[[0.05132936 0.05132936 0.05132936 ... 0.04867065 0.04867065 0.04867065]\n",
            " [0.05132936 0.05132936 0.05132936 ... 0.04867065 0.04867065 0.04867065]\n",
            " [0.05132936 0.05132936 0.05132936 ... 0.04867065 0.04867065 0.04867065]\n",
            " ...\n",
            " [0.05       0.05       0.05       ... 0.05       0.05       0.05      ]\n",
            " [0.05       0.05       0.05       ... 0.05       0.05       0.05      ]\n",
            " [0.05       0.05       0.05       ... 0.05       0.05       0.05      ]]\n",
            "FIM= 0.023271786\n",
            "5\n",
            "[[0.05171559 0.05171559 0.05171559 ... 0.04828442 0.04828442 0.04828442]\n",
            " [0.05171559 0.05171559 0.05171559 ... 0.04828442 0.04828442 0.04828442]\n",
            " [0.05171559 0.05171559 0.05171559 ... 0.04828442 0.04828442 0.04828442]\n",
            " ...\n",
            " [0.05       0.05       0.05       ... 0.05       0.05       0.05      ]\n",
            " [0.05       0.05       0.05       ... 0.05       0.05       0.05      ]\n",
            " [0.05       0.05       0.05       ... 0.05       0.05       0.05      ]]\n",
            "FIM= 0.023429178\n",
            "6\n",
            "[[0.05212891 0.05212891 0.05212891 ... 0.04787107 0.04787107 0.04787107]\n",
            " [0.05212891 0.05212891 0.05212891 ... 0.04787107 0.04787107 0.04787107]\n",
            " [0.05212891 0.05212891 0.05212891 ... 0.04787107 0.04787107 0.04787107]\n",
            " ...\n",
            " [0.05       0.05       0.05       ... 0.05       0.05       0.05      ]\n",
            " [0.05       0.05       0.05       ... 0.05       0.05       0.05      ]\n",
            " [0.05       0.05       0.05       ... 0.05       0.05       0.05      ]]\n",
            "FIM= 0.023597103\n",
            "7\n",
            "[[0.052573   0.052573   0.052573   ... 0.04742701 0.04742701 0.04742701]\n",
            " [0.052573   0.052573   0.052573   ... 0.04742701 0.04742701 0.04742701]\n",
            " [0.052573   0.052573   0.052573   ... 0.04742701 0.04742701 0.04742701]\n",
            " ...\n",
            " [0.05       0.05       0.05       ... 0.05       0.05       0.05      ]\n",
            " [0.05       0.05       0.05       ... 0.05       0.05       0.05      ]\n",
            " [0.05       0.05       0.05       ... 0.05       0.05       0.05      ]]\n",
            "FIM= 0.02377683\n",
            "8\n",
            "[[0.05305237 0.05305237 0.05305237 ... 0.04694764 0.04694764 0.04694764]\n",
            " [0.05305237 0.05305237 0.05305237 ... 0.04694764 0.04694764 0.04694764]\n",
            " [0.05305237 0.05305237 0.05305237 ... 0.04694764 0.04694764 0.04694764]\n",
            " ...\n",
            " [0.05       0.05       0.05       ... 0.05       0.05       0.05      ]\n",
            " [0.05       0.05       0.05       ... 0.05       0.05       0.05      ]\n",
            " [0.05       0.05       0.05       ... 0.05       0.05       0.05      ]]\n",
            "FIM= 0.02396991\n",
            "9\n",
            "[[0.05357248 0.05357248 0.05357248 ... 0.04642752 0.04642752 0.04642752]\n",
            " [0.05357248 0.05357248 0.05357248 ... 0.04642752 0.04642752 0.04642752]\n",
            " [0.05357248 0.05357248 0.05357248 ... 0.04642752 0.04642752 0.04642752]\n",
            " ...\n",
            " [0.05       0.05       0.05       ... 0.05       0.05       0.05      ]\n",
            " [0.05       0.05       0.05       ... 0.05       0.05       0.05      ]\n",
            " [0.05       0.05       0.05       ... 0.05       0.05       0.05      ]]\n",
            "FIM= 0.024178399\n",
            "10\n",
            "[[0.05414017 0.05414017 0.05414017 ... 0.04585984 0.04585984 0.04585984]\n",
            " [0.05414017 0.05414017 0.05414017 ... 0.04585984 0.04585984 0.04585984]\n",
            " [0.05414017 0.05414017 0.05414017 ... 0.04585984 0.04585984 0.04585984]\n",
            " ...\n",
            " [0.05       0.05       0.05       ... 0.05       0.05       0.05      ]\n",
            " [0.05       0.05       0.05       ... 0.05       0.05       0.05      ]\n",
            " [0.05       0.05       0.05       ... 0.05       0.05       0.05      ]]\n",
            "FIM= 0.024404727\n",
            "11\n",
            "[[0.054764 0.054764 0.054764 ... 0.045236 0.045236 0.045236]\n",
            " [0.054764 0.054764 0.054764 ... 0.045236 0.045236 0.045236]\n",
            " [0.054764 0.054764 0.054764 ... 0.045236 0.045236 0.045236]\n",
            " ...\n",
            " [0.05     0.05     0.05     ... 0.05     0.05     0.05    ]\n",
            " [0.05     0.05     0.05     ... 0.05     0.05     0.05    ]\n",
            " [0.05     0.05     0.05     ... 0.05     0.05     0.05    ]]\n",
            "FIM= 0.024652075\n",
            "12\n",
            "[[0.05545496 0.05545496 0.05545496 ... 0.04454504 0.04454504 0.04454504]\n",
            " [0.05545496 0.05545496 0.05545496 ... 0.04454504 0.04454504 0.04454504]\n",
            " [0.05545496 0.05545496 0.05545496 ... 0.04454504 0.04454504 0.04454504]\n",
            " ...\n",
            " [0.05       0.05       0.05       ... 0.05       0.05       0.05      ]\n",
            " [0.05       0.05       0.05       ... 0.05       0.05       0.05      ]\n",
            " [0.05       0.05       0.05       ... 0.05       0.05       0.05      ]]\n",
            "FIM= 0.024923708\n",
            "13\n",
            "[[0.05622742 0.05622742 0.05622742 ... 0.04377258 0.04377258 0.04377258]\n",
            " [0.05622742 0.05622742 0.05622742 ... 0.04377258 0.04377258 0.04377258]\n",
            " [0.05622742 0.05622742 0.05622742 ... 0.04377258 0.04377258 0.04377258]\n",
            " ...\n",
            " [0.05       0.05       0.05       ... 0.05       0.05       0.05      ]\n",
            " [0.05       0.05       0.05       ... 0.05       0.05       0.05      ]\n",
            " [0.05       0.05       0.05       ... 0.05       0.05       0.05      ]]\n",
            "FIM= 0.025225097\n",
            "14\n",
            "[[0.05710048 0.05710048 0.05710048 ... 0.04289952 0.04289952 0.04289952]\n",
            " [0.05710048 0.05710048 0.05710048 ... 0.04289952 0.04289952 0.04289952]\n",
            " [0.05710048 0.05710048 0.05710048 ... 0.04289952 0.04289952 0.04289952]\n",
            " ...\n",
            " [0.05       0.05       0.05       ... 0.05       0.05       0.05      ]\n",
            " [0.05       0.05       0.05       ... 0.05       0.05       0.05      ]\n",
            " [0.05       0.05       0.05       ... 0.05       0.05       0.05      ]]\n",
            "FIM= 0.025561994\n",
            "15\n",
            "[[0.05810038 0.05810038 0.05810038 ... 0.04189961 0.04189961 0.04189961]\n",
            " [0.05810038 0.05810038 0.05810038 ... 0.04189961 0.04189961 0.04189961]\n",
            " [0.05810038 0.05810038 0.05810038 ... 0.04189961 0.04189961 0.04189961]\n",
            " ...\n",
            " [0.05       0.05       0.05       ... 0.05       0.05       0.05      ]\n",
            " [0.05       0.05       0.05       ... 0.05       0.05       0.05      ]\n",
            " [0.05       0.05       0.05       ... 0.05       0.05       0.05      ]]\n",
            "FIM= 0.025943022\n",
            "16\n",
            "[[0.05926426 0.05926426 0.05926426 ... 0.04073575 0.04073575 0.04073575]\n",
            " [0.05926426 0.05926426 0.05926426 ... 0.04073575 0.04073575 0.04073575]\n",
            " [0.05926426 0.05926426 0.05926426 ... 0.04073575 0.04073575 0.04073575]\n",
            " ...\n",
            " [0.05       0.05       0.05       ... 0.05       0.05       0.05      ]\n",
            " [0.05       0.05       0.05       ... 0.05       0.05       0.05      ]\n",
            " [0.05       0.05       0.05       ... 0.05       0.05       0.05      ]]\n",
            "FIM= 0.026379688\n",
            "17\n",
            "[[0.06064657 0.06064657 0.06064657 ... 0.03935343 0.03935343 0.03935343]\n",
            " [0.06064657 0.06064657 0.06064657 ... 0.03935343 0.03935343 0.03935343]\n",
            " [0.06064657 0.06064657 0.06064657 ... 0.03935343 0.03935343 0.03935343]\n",
            " ...\n",
            " [0.05       0.05       0.05       ... 0.05       0.05       0.05      ]\n",
            " [0.05       0.05       0.05       ... 0.05       0.05       0.05      ]\n",
            " [0.05       0.05       0.05       ... 0.05       0.05       0.05      ]]\n",
            "FIM= 0.026887326\n",
            "18\n",
            "[[0.06233105 0.06233105 0.06233105 ... 0.03766895 0.03766895 0.03766895]\n",
            " [0.06233105 0.06233105 0.06233105 ... 0.03766895 0.03766895 0.03766895]\n",
            " [0.06233105 0.06233105 0.06233105 ... 0.03766895 0.03766895 0.03766895]\n",
            " ...\n",
            " [0.05       0.05       0.05       ... 0.05       0.05       0.05      ]\n",
            " [0.05       0.05       0.05       ... 0.05       0.05       0.05      ]\n",
            " [0.05       0.05       0.05       ... 0.05       0.05       0.05      ]]\n",
            "FIM= 0.027488306\n",
            "19\n",
            "[[0.06445338 0.06445338 0.06445338 ... 0.03554663 0.03554663 0.03554663]\n",
            " [0.06445338 0.06445338 0.06445338 ... 0.03554663 0.03554663 0.03554663]\n",
            " [0.06445338 0.06445338 0.06445338 ... 0.03554663 0.03554663 0.03554663]\n",
            " ...\n",
            " [0.05       0.05       0.05       ... 0.05       0.05       0.05      ]\n",
            " [0.05       0.05       0.05       ... 0.05       0.05       0.05      ]\n",
            " [0.05       0.05       0.05       ... 0.05       0.05       0.05      ]]\n",
            "FIM= 0.02821353\n",
            "20\n",
            "[[0.06724838 0.06724838 0.06724838 ... 0.03275163 0.03275163 0.03275163]\n",
            " [0.06724838 0.06724838 0.06724838 ... 0.03275163 0.03275163 0.03275163]\n",
            " [0.06724838 0.06724838 0.06724838 ... 0.03275163 0.03275163 0.03275163]\n",
            " ...\n",
            " [0.05       0.05       0.05       ... 0.05       0.05       0.05      ]\n",
            " [0.05       0.05       0.05       ... 0.05       0.05       0.05      ]\n",
            " [0.05       0.05       0.05       ... 0.05       0.05       0.05      ]]\n",
            "FIM= 0.02910216\n",
            "21\n",
            "[[0.07115291 0.07115291 0.07115291 ... 0.02884708 0.02884708 0.02884708]\n",
            " [0.07115291 0.07115291 0.07115291 ... 0.02884708 0.02884708 0.02884708]\n",
            " [0.07115291 0.07115291 0.07115291 ... 0.02884708 0.02884708 0.02884708]\n",
            " ...\n",
            " [0.05       0.05       0.05       ... 0.05       0.05       0.05      ]\n",
            " [0.05       0.05       0.05       ... 0.05       0.05       0.05      ]\n",
            " [0.05       0.05       0.05       ... 0.05       0.05       0.05      ]]\n",
            "FIM= 0.030174173\n",
            "22\n",
            "[[0.07701986 0.07701986 0.07701986 ... 0.02298014 0.02298014 0.02298014]\n",
            " [0.07701986 0.07701986 0.07701986 ... 0.02298014 0.02298014 0.02298014]\n",
            " [0.07701986 0.07701986 0.07701986 ... 0.02298014 0.02298014 0.02298014]\n",
            " ...\n",
            " [0.05       0.05       0.05       ... 0.05       0.05       0.05      ]\n",
            " [0.05       0.05       0.05       ... 0.05       0.05       0.05      ]\n",
            " [0.05       0.05       0.05       ... 0.05       0.05       0.05      ]]\n",
            "FIM= 0.031201666\n",
            "23\n",
            "[[0.08622717 0.08622717 0.08622717 ... 0.01377283 0.01377283 0.01377283]\n",
            " [0.08622717 0.08622717 0.08622717 ... 0.01377283 0.01377283 0.01377283]\n",
            " [0.08622717 0.08622717 0.08622717 ... 0.01377283 0.01377283 0.01377283]\n",
            " ...\n",
            " [0.05       0.05       0.05       ... 0.05       0.05       0.05      ]\n",
            " [0.05       0.05       0.05       ... 0.05       0.05       0.05      ]\n",
            " [0.05       0.05       0.05       ... 0.05       0.05       0.05      ]]\n",
            "FIM= 0.02970136\n",
            "24\n",
            "[[0.09704429 0.09704429 0.09704429 ... 0.00295569 0.00295569 0.00295569]\n",
            " [0.09704429 0.09704429 0.09704429 ... 0.00295569 0.00295569 0.00295569]\n",
            " [0.09704429 0.09704429 0.09704429 ... 0.00295569 0.00295569 0.00295569]\n",
            " ...\n",
            " [0.05       0.05       0.05       ... 0.05       0.05       0.05      ]\n",
            " [0.05       0.05       0.05       ... 0.05       0.05       0.05      ]\n",
            " [0.05       0.05       0.05       ... 0.05       0.05       0.05      ]]\n",
            "FIM= 0.01230647\n",
            "25\n",
            "[[9.9953391e-02 9.9953391e-02 9.9953391e-02 ... 4.6611214e-05\n",
            "  4.6611214e-05 4.6611214e-05]\n",
            " [9.9953391e-02 9.9953391e-02 9.9953391e-02 ... 4.6611214e-05\n",
            "  4.6611214e-05 4.6611214e-05]\n",
            " [9.9953391e-02 9.9953391e-02 9.9953391e-02 ... 4.6611214e-05\n",
            "  4.6611214e-05 4.6611214e-05]\n",
            " ...\n",
            " [5.0000001e-02 5.0000001e-02 5.0000001e-02 ... 5.0000001e-02\n",
            "  5.0000001e-02 5.0000001e-02]\n",
            " [5.0000001e-02 5.0000001e-02 5.0000001e-02 ... 5.0000001e-02\n",
            "  5.0000001e-02 5.0000001e-02]\n",
            " [5.0000001e-02 5.0000001e-02 5.0000001e-02 ... 5.0000001e-02\n",
            "  5.0000001e-02 5.0000001e-02]]\n",
            "FIM= 0.00023747701\n",
            "26\n",
            "[[9.9999711e-02 9.9999711e-02 9.9999711e-02 ... 2.7072758e-07\n",
            "  2.7072758e-07 2.7072758e-07]\n",
            " [9.9999711e-02 9.9999711e-02 9.9999711e-02 ... 2.7072758e-07\n",
            "  2.7072758e-07 2.7072758e-07]\n",
            " [9.9999711e-02 9.9999711e-02 9.9999711e-02 ... 2.7072758e-07\n",
            "  2.7072758e-07 2.7072758e-07]\n",
            " ...\n",
            " [5.0000001e-02 5.0000001e-02 5.0000001e-02 ... 5.0000001e-02\n",
            "  5.0000001e-02 5.0000001e-02]\n",
            " [5.0000001e-02 5.0000001e-02 5.0000001e-02 ... 5.0000001e-02\n",
            "  5.0000001e-02 5.0000001e-02]\n",
            " [5.0000001e-02 5.0000001e-02 5.0000001e-02 ... 5.0000001e-02\n",
            "  5.0000001e-02 5.0000001e-02]]\n",
            "FIM= 1.3838809e-06\n",
            "27\n",
            "[[1.000000e-01 1.000000e-01 1.000000e-01 ... 5.060662e-10 5.060662e-10\n",
            "  5.060662e-10]\n",
            " [1.000000e-01 1.000000e-01 1.000000e-01 ... 5.060662e-10 5.060662e-10\n",
            "  5.060662e-10]\n",
            " [1.000000e-01 1.000000e-01 1.000000e-01 ... 5.060662e-10 5.060662e-10\n",
            "  5.060662e-10]\n",
            " ...\n",
            " [5.000000e-02 5.000000e-02 5.000000e-02 ... 5.000000e-02 5.000000e-02\n",
            "  5.000000e-02]\n",
            " [5.000000e-02 5.000000e-02 5.000000e-02 ... 5.000000e-02 5.000000e-02\n",
            "  5.000000e-02]\n",
            " [5.000000e-02 5.000000e-02 5.000000e-02 ... 5.000000e-02 5.000000e-02\n",
            "  5.000000e-02]]\n",
            "FIM= 2.5869156e-09\n"
          ]
        }
      ]
    },
    {
      "cell_type": "code",
      "source": [
        "import matplotlib.pyplot as plt\n",
        "plt.plot(perf1[:T],label='Q-Value')\n",
        "plt.plot(Q_approx[0][0]*np.ones(perf1[:T].shape),label='Maximum Q-Value')\n",
        "plt.legend()\n",
        "plt.show()"
      ],
      "metadata": {
        "colab": {
          "base_uri": "https://localhost:8080/"
        },
        "id": "c619uy1vaF6t",
        "outputId": "54828835-45a7-4012-be19-d8ecb87512b1"
      },
      "execution_count": null,
      "outputs": [
        {
          "output_type": "display_data",
          "data": {
            "text/plain": [
              "<Figure size 432x288 with 1 Axes>"
            ],
            "image/png": "[encoded data removed]"
          },
          "metadata": {
            "needs_background": "light"
          }
        }
      ]
    },
    {
      "cell_type": "code",
      "source": [],
      "metadata": {
        "id": "G0mjExkXaVNp"
      },
      "execution_count": null,
      "outputs": []
    }
  ]
}